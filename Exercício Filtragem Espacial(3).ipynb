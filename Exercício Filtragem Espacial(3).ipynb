{
 "cells": [
  {
   "cell_type": "markdown",
   "metadata": {},
   "source": [
    "Universidade do Vale do Itajaí<br>\n",
    "Escola do Mar, Ciência e Tecnologia<br>\n",
    "Engenharia de Computação - Processamento Digital de Sinais: Imagens\n",
    "\n",
    "# Exercício Avalitivo de Filtragem Espacial\n",
    "\n",
    "### Tutoriais da OpenCV\n",
    "\n",
    "- https://docs.opencv.org/master/d9/df8/tutorial_root.html\n",
    "- https://www.geeksforgeeks.org/opencv-python-tutorial/"
   ]
  },
  {
   "cell_type": "markdown",
   "metadata": {},
   "source": [
    "## Conversão de imagem RGB em imagem Grayscale"
   ]
  },
  {
   "cell_type": "code",
   "execution_count": 1,
   "metadata": {},
   "outputs": [],
   "source": [
    "import cv2\n",
    "import numpy as np\n",
    "import matplotlib.pyplot as plt\n",
    "#from google.colab.patches import cv2_imshow\n"
   ]
  },
  {
   "cell_type": "code",
   "execution_count": 2,
   "metadata": {},
   "outputs": [],
   "source": [
    "#abria a imagem\n",
    "img = cv2.imread('data/t1.jpg',1)\n",
    "#cv2_imshow(img)"
   ]
  },
  {
   "cell_type": "code",
   "execution_count": 3,
   "metadata": {},
   "outputs": [],
   "source": [
    "#mostrando a imagem colorida\n",
    "cv2.imshow('in', img)\n",
    "cv2.waitKey(0)\n",
    "cv2.destroyAllWindows()"
   ]
  },
  {
   "cell_type": "code",
   "execution_count": 4,
   "metadata": {},
   "outputs": [],
   "source": [
    "#aplicando conversão básica\n",
    "#numpy\n",
    "#img_grayscale_basic = (img[ : , : ,0]+img[ : , : ,1]+img[ : , : ,2])/3\n",
    "\n",
    "#cv2\n",
    "B, G, R = cv2.split(img)\n",
    "img_grayscale_basic = (B+G+R)/3\n",
    "\n",
    "img_grayscale_basic = np.array(img_grayscale_basic, dtype=np.uint8)\n",
    "\n",
    "cv2.imshow('img_grayscale_basic', img_grayscale_basic)\n",
    "cv2.waitKey(0)\n",
    "cv2.destroyAllWindows()"
   ]
  },
  {
   "cell_type": "code",
   "execution_count": 5,
   "metadata": {},
   "outputs": [],
   "source": [
    "#aplicando conversão ponderada\n",
    "#img_grayscale_basic = 0.299*img[ : , : ,0] + 0.587*img[ : , : ,1] + 0.114*img[ : , : ,2]\n",
    "\n",
    "#cv2\n",
    "B, G, R = cv2.split(img)\n",
    "img_grayscale_pondered = 0.299*B+0.587*G+0.114*R\n",
    "\n",
    "img_grayscale_pondered = np.array(img_grayscale_pondered, dtype=np.uint8)\n",
    "\n",
    "cv2.imshow('img_grayscale_basic', img_grayscale_pondered)\n",
    "cv2.waitKey(0)\n",
    "cv2.destroyAllWindows()"
   ]
  },
  {
   "cell_type": "markdown",
   "metadata": {},
   "source": [
    "## Filtro Espacial\n"
   ]
  },
  {
   "cell_type": "code",
   "execution_count": 6,
   "metadata": {},
   "outputs": [],
   "source": [
    "def gauss_create(sigma=1, size_x=3, size_y=3):\n",
    "    '''\n",
    "    Create normal (gaussian) distribuiton\n",
    "    '''\n",
    "    x, y = np.meshgrid(np.linspace(-1,1,size_x), np.linspace(-1,1,size_y))\n",
    "    calc = 1/((2*np.pi*(sigma**2)))\n",
    "    exp = np.exp(-(((x**2) + (y**2))/(2*(sigma**2))))\n",
    "    \n",
    "    return exp*calc"
   ]
  },
  {
   "cell_type": "markdown",
   "metadata": {},
   "source": [
    "### Suavização\n",
    "\n",
    "1. Implemente a sua própria convolução manualmente, em formato de função, utilizando os conceitos vistos em aula\n",
    "2. Aplique a filtragem de suavização, com as máscaras 3x3, 5x5 e 7x7, com os filtros:\n",
    " - média\n",
    " - gaussino (escolha uma distribuição adequada, podendo utilizar a função acima ou recuperando a distribuição usada na OpenCV)\n",
    " - mediana \n",
    "4. Relate as observações visíveis nas imagens de saída com os filtros usados, descrevendo o comportamento visual em relação as bordas, ruídos e esmaecimento da imagem com os diferentes kernels\n",
    "\n",
    "#### Dicas\n",
    " - Você pode adicionar ruído nas imagens usando a função random_noise: `from skimage.util import random_noise`. Cuidado com o retorno da função, talvez seja necessário regularizar a mesma novamente para o intervalo de 0 à 255."
   ]
  },
  {
   "cell_type": "code",
   "execution_count": null,
   "metadata": {},
   "outputs": [],
   "source": []
  },
  {
   "cell_type": "markdown",
   "metadata": {},
   "source": [
    "### Sharpening\n",
    "\n",
    "4. Implemente os filtros de sharpening, utilizando as diferentes mascarás apresentadas no livro de referência da disciplina:\n",
    " - Laplaciano (figura 3.37)\n",
    " - Sharpening implementado na figura 3.38\n",
    " - Unsharp Masking e Highboost Filtering\n",
    " - Implemente os detectores de borda Laplaciano, Roberts e Sobel\n",
    " - Utilize a função Canny da OpenCV na mesma imagem usando nos outros detectores\n",
    " \n",
    "5. Relate as observações visíveis nas imagens de saída com os filtros usados, descrevendo o comportamento visual em relação as bordas, ruídos e esmaecimento da imagem com os diferentes kernels e para os diferentes algoritmos\n",
    "6. Você observa uma discrepante melhoria na detecção de bordas pelo Canny em comparação aos outros 3 que justifique a complexidade adicional?\n",
    "7. Aplique o filtro Sobel pós operação com um filtro de suavização (a sua escolha) e compare com a saída do Canny. Descreva suas observações técnicas sobre o comportamento."
   ]
  },
  {
   "cell_type": "code",
   "execution_count": null,
   "metadata": {},
   "outputs": [],
   "source": []
  },
  {
   "cell_type": "code",
   "execution_count": null,
   "metadata": {},
   "outputs": [],
   "source": []
  }
 ],
 "metadata": {
  "kernelspec": {
   "display_name": "Python 3",
   "language": "python",
   "name": "python3"
  },
  "language_info": {
   "codemirror_mode": {
    "name": "ipython",
    "version": 3
   },
   "file_extension": ".py",
   "mimetype": "text/x-python",
   "name": "python",
   "nbconvert_exporter": "python",
   "pygments_lexer": "ipython3",
   "version": "3.8.5"
  }
 },
 "nbformat": 4,
 "nbformat_minor": 4
}
